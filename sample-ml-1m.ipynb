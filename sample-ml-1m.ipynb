{
 "cells": [
  {
   "cell_type": "markdown",
   "metadata": {},
   "source": [
    "# Incremental SGD for the MovieLens 1M dataset\n",
    "\n",
    "J. Vinagre, et al., \"**Fast incremental matrix factorization for recommendation with positive-only feedback**,\" Proc. UMAP 2014, pp. 459-470, July 2014."
   ]
  },
  {
   "cell_type": "code",
   "execution_count": 1,
   "metadata": {
    "collapsed": true
   },
   "outputs": [],
   "source": [
    "import numpy as np\n",
    "\n",
    "%matplotlib inline\n",
    "import matplotlib.pyplot as plt"
   ]
  },
  {
   "cell_type": "code",
   "execution_count": 2,
   "metadata": {
    "collapsed": false
   },
   "outputs": [],
   "source": [
    "%load_ext autoreload\n",
    "%autoreload 2\n",
    "\n",
    "from ISGD import ISGD"
   ]
  },
  {
   "cell_type": "markdown",
   "metadata": {},
   "source": [
    "### Load MovieLens 1M dataset"
   ]
  },
  {
   "cell_type": "code",
   "execution_count": 3,
   "metadata": {
    "collapsed": false
   },
   "outputs": [
    {
     "data": {
      "text/plain": [
       "(226310, 4)"
      ]
     },
     "execution_count": 3,
     "metadata": {},
     "output_type": "execute_result"
    }
   ],
   "source": [
    "ratings = []\n",
    "with open('../../data/ml-1m/ratings.dat') as f:\n",
    "    lines = map(lambda l: map(int, l.rstrip().split('::')), f.readlines())\n",
    "    for l in lines:\n",
    "        # Since we consider positive-only feedback setting, ratings < 5 will be excluded.\n",
    "        if l[2] == 5: ratings.append(l)\n",
    "\n",
    "ratings = np.asarray(ratings)\n",
    "ratings.shape"
   ]
  },
  {
   "cell_type": "code",
   "execution_count": 4,
   "metadata": {
    "collapsed": false
   },
   "outputs": [
    {
     "data": {
      "text/plain": [
       "array([[     6040,       593,         5, 956703954],\n",
       "       [     6040,      2019,         5, 956703977],\n",
       "       [     6040,      3111,         5, 956704056],\n",
       "       [     6040,       213,         5, 956704056],\n",
       "       [     6040,       912,         5, 956704191],\n",
       "       [     6040,       919,         5, 956704191],\n",
       "       [     6040,      2503,         5, 956704191],\n",
       "       [     6040,       527,         5, 956704219],\n",
       "       [     6040,      1252,         5, 956704257],\n",
       "       [     6040,       649,         5, 956704257]])"
      ]
     },
     "execution_count": 4,
     "metadata": {},
     "output_type": "execute_result"
    }
   ],
   "source": [
    "# sorted by timestamp\n",
    "ratings = ratings[np.argsort(ratings[:, 3])]\n",
    "ratings[:10]"
   ]
  },
  {
   "cell_type": "code",
   "execution_count": 5,
   "metadata": {
    "collapsed": false
   },
   "outputs": [
    {
     "data": {
      "text/plain": [
       "(6014, 3232)"
      ]
     },
     "execution_count": 5,
     "metadata": {},
     "output_type": "execute_result"
    }
   ],
   "source": [
    "users = set([])\n",
    "items = set([])\n",
    "for u, i, r, t in ratings:\n",
    "    users.add(u)\n",
    "    items.add(i)\n",
    "users = list(users)\n",
    "items = list(items)\n",
    "\n",
    "n_user = len(users)\n",
    "n_item = len(items)\n",
    "\n",
    "n_user, n_item"
   ]
  },
  {
   "cell_type": "markdown",
   "metadata": {},
   "source": [
    "## Run a *test-then-learn* procedure \n",
    "\n",
    "Simple Moving Average (SMA) with window size $n=5000$"
   ]
  },
  {
   "cell_type": "code",
   "execution_count": 6,
   "metadata": {
    "collapsed": false,
    "scrolled": false
   },
   "outputs": [],
   "source": [
    "window_size = 5000 # for SMA\n",
    "N = 10 # recall@10\n",
    "\n",
    "history_mat = np.zeros((n_user, n_item))\n",
    "\n",
    "# initialize\n",
    "isgd = ISGD(n_user, n_item, k=100)\n",
    "\n",
    "# to avoid cold-start, train initial 20% samples\n",
    "n_ratings = ratings.shape[0]\n",
    "n_train = int(n_ratings * 0.2)\n",
    "for ri in xrange(n_train):\n",
    "    u, i, rating, timestamp = ratings[ri]\n",
    "    u_index = users.index(u)\n",
    "    i_index = items.index(i)\n",
    "    isgd.update(u_index, i_index)\n",
    "    history_mat[u_index, i_index] = 1\n",
    "\n",
    "avgs = []\n",
    "sma = []\n",
    "for ri in xrange(n_train, n_ratings):\n",
    "    u, i, rating, timestamp = ratings[ri]\n",
    "    u_index = users.index(u)\n",
    "    i_index = items.index(i)\n",
    "    \n",
    "    # 1.\n",
    "    if u_index in isgd.known_users:\n",
    "        # If u is a known user, use the current model to recommend N items,\n",
    "        recos = isgd.recommend(u_index, N, history_mat[u_index])\n",
    "        \n",
    "        # 2. Score the recommendation list given the true observed item i\n",
    "        recall = 1 if (i_index in recos) else 0\n",
    "        \n",
    "        sma.append(recall)\n",
    "        n = len(sma)\n",
    "        if n > window_size: \n",
    "            del sma[0]\n",
    "            n -= 1\n",
    "        avgs.append(sum(sma) / float(n))\n",
    "    \n",
    "    # 3. update the model with the observed event\n",
    "    isgd.update(u_index, i_index)\n",
    "    history_mat[u_index, i_index] = 1"
   ]
  },
  {
   "cell_type": "code",
   "execution_count": 7,
   "metadata": {
    "collapsed": false
   },
   "outputs": [
    {
     "data": {
      "image/png": "[encoded data removed]",
      "text/plain": [
       "<matplotlib.figure.Figure at 0x10ec4c1d0>"
      ]
     },
     "metadata": {},
     "output_type": "display_data"
    }
   ],
   "source": [
    "fig, ax = plt.subplots()\n",
    "ax.plot(range(len(avgs)), avgs)\n",
    "ax.set_xlabel('index')\n",
    "ax.set_ylabel('recall@10')\n",
    "ax.grid(True)\n",
    "ax.set_xticks([0, 50000, 100000, 150000])\n",
    "ax.set_yticks([0.00, 0.05, 0.10, 0.15])\n",
    "fig.set_size_inches((5.5,3))\n",
    "fig.patch.set_alpha(0.0)"
   ]
  },
  {
   "cell_type": "code",
   "execution_count": null,
   "metadata": {
    "collapsed": true
   },
   "outputs": [],
   "source": []
  }
 ],
 "metadata": {
  "kernelspec": {
   "display_name": "Python 2",
   "language": "python",
   "name": "python2"
  },
  "language_info": {
   "codemirror_mode": {
    "name": "ipython",
    "version": 2
   },
   "file_extension": ".py",
   "mimetype": "text/x-python",
   "name": "python",
   "nbconvert_exporter": "python",
   "pygments_lexer": "ipython2",
   "version": "2.7.11"
  }
 },
 "nbformat": 4,
 "nbformat_minor": 0
}
